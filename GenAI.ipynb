{
  "nbformat": 4,
  "nbformat_minor": 0,
  "metadata": {
    "colab": {
      "provenance": [],
      "authorship_tag": "ABX9TyOqLYWsi9mes1yj5Bm5JJ6c",
      "include_colab_link": true
    },
    "kernelspec": {
      "name": "python3",
      "display_name": "Python 3"
    },
    "language_info": {
      "name": "python"
    }
  },
  "cells": [
    {
      "cell_type": "markdown",
      "metadata": {
        "id": "view-in-github",
        "colab_type": "text"
      },
      "source": [
        "<a href=\"https://colab.research.google.com/github/oiptmrnd/genai-cyberview/blob/main/GenAI.ipynb\" target=\"_parent\"><img src=\"https://colab.research.google.com/assets/colab-badge.svg\" alt=\"Open In Colab\"/></a>"
      ]
    },
    {
      "cell_type": "code",
      "execution_count": 1,
      "metadata": {
        "id": "qPGS7KSiYqeC"
      },
      "outputs": [],
      "source": [
        "from openai import OpenAI"
      ]
    },
    {
      "cell_type": "code",
      "source": [
        "# Set OpenAI's API key (can be any string, as vLLM doesn't require a real key)\n",
        "# and API base to use vLLM's API server.\n",
        "openai_api_key = \"\"  # Or any placeholder string\n",
        "openai_api_base = \"https://api.oip.tmrnd.com.my/t/cyberview.com.my/vllmgpu/1.0.0\"  # Replace with your vLLM server's address and port"
      ],
      "metadata": {
        "id": "NQxbNKi6Y4zK"
      },
      "execution_count": 8,
      "outputs": []
    },
    {
      "cell_type": "code",
      "source": [
        "client = OpenAI(\n",
        "    api_key=openai_api_key,\n",
        "    base_url=openai_api_base,\n",
        ")"
      ],
      "metadata": {
        "id": "kMyOnh6wZLvC"
      },
      "execution_count": 3,
      "outputs": []
    },
    {
      "cell_type": "code",
      "source": [
        "# Make a Chat Completions API call\n",
        "chat_response = client.chat.completions.create(\n",
        "    model=\"meta-llama/Llama-3.1-8B-Instruct\",  # Replace with the name of the model loaded in your vLLM server\n",
        "    messages=[\n",
        "        {\"role\": \"system\", \"content\": \"Act as a mentor for a hackathon.\"},\n",
        "        {\"role\": \"user\", \"content\": \"Please provide an idea on how to combine GenAI with Cyberview data\"},\n",
        "    ]\n",
        ")"
      ],
      "metadata": {
        "id": "-M5MOZxaZPye"
      },
      "execution_count": 4,
      "outputs": []
    },
    {
      "cell_type": "code",
      "source": [
        "print(\"Chat response:\", chat_response.choices[0].message.content)"
      ],
      "metadata": {
        "colab": {
          "base_uri": "https://localhost:8080/"
        },
        "id": "vmSqWcpnZUGS",
        "outputId": "ecb94883-0b7b-4b37-89a6-f9f1ae8383ff"
      },
      "execution_count": 5,
      "outputs": [
        {
          "output_type": "stream",
          "name": "stdout",
          "text": [
            "Chat response: Here's an innovative idea for a hackathon project that combines GenAI with Cyberview data:\n",
            "\n",
            "**Project Title:** \"Smart City Insights using GenAI and Cyberview Data\"\n",
            "\n",
            "**Problem Statement:** Urban planning and city management require data-driven decision-making. However, existing data sources often lack context and insights. By combining GenAI with Cyberview data, we can unlock new possibilities for urban planning and management.\n",
            "\n",
            "**Project Description:**\n",
            "\n",
            "1. **Data Collection:** Collect Cyberview data, which includes information about the city's infrastructure, transportation, energy consumption, and other relevant metrics.\n",
            "2. **GenAI Model Training:** Train a GenAI model using the collected data to identify patterns, trends, and correlations between different variables.\n",
            "3. **Insight Generation:** Use the trained GenAI model to generate insights and predictions about the city's future development, energy consumption, traffic patterns, and other relevant aspects.\n",
            "4. **Visualization:** Visualize the generated insights using interactive dashboards and maps to facilitate easy understanding and decision-making.\n",
            "5. **Recommendations:** Provide actionable recommendations for urban planners, policymakers, and stakeholders based on the generated insights and predictions.\n",
            "\n",
            "**Example Use Cases:**\n",
            "\n",
            "1. **Predicting Energy Consumption:** Train a GenAI model to predict energy consumption based on historical data, weather patterns, and other relevant factors. This can help urban planners optimize energy infrastructure and reduce waste.\n",
            "2. **Optimizing Traffic Flow:** Use GenAI to analyze traffic patterns and predict congestion hotspots. This can help urban planners optimize traffic signal timing and reduce congestion.\n",
            "3. **Identifying Areas for Urban Renewal:** Train a GenAI model to identify areas with high potential for urban renewal based on demographic data, economic indicators, and other relevant factors.\n",
            "\n",
            "**Technical Requirements:**\n",
            "\n",
            "1. **Data Sources:** Cyberview data, historical data, and other relevant datasets.\n",
            "2. **GenAI Framework:** Use a popular GenAI framework like TensorFlow, PyTorch, or Hugging Face Transformers.\n",
            "3. **Programming Languages:** Python, R, or Julia.\n",
            "4. **Visualization Tools:** Use interactive visualization tools like Tableau, Power BI, or D3.js.\n",
            "5. **Cloud Infrastructure:** Use cloud infrastructure like AWS, Google Cloud, or Azure to host the project.\n",
            "\n",
            "**Timeline:**\n",
            "\n",
            "1. **Data Collection and Preprocessing:** 2 hours\n",
            "2. **GenAI Model Training:** 4 hours\n",
            "3. **Insight Generation and Visualization:** 4 hours\n",
            "4. **Recommendations and Deployment:** 2 hours\n",
            "\n",
            "**Tips and Resources:**\n",
            "\n",
            "1. **Start with a clear problem statement and objective.**\n",
            "2. **Use publicly available datasets and APIs to collect data.**\n",
            "3. **Experiment with different GenAI models and architectures.**\n",
            "4. **Use interactive visualization tools to facilitate easy understanding and decision-making.**\n",
            "5. **Seek guidance from mentors and experts in the field.**\n",
            "\n",
            "This project combines the power of GenAI with Cyberview data to unlock new insights and possibilities for urban planning and management. By following this project plan, you can create a comprehensive solution that addresses real-world problems and showcases the potential of GenAI in the context of urban planning. Good luck!\n"
          ]
        }
      ]
    },
    {
      "cell_type": "code",
      "source": [
        " from IPython.display import Markdown, display"
      ],
      "metadata": {
        "id": "iV14YVtkZs_p"
      },
      "execution_count": 6,
      "outputs": []
    },
    {
      "cell_type": "code",
      "source": [
        "display(Markdown(chat_response.choices[0].message.content))"
      ],
      "metadata": {
        "colab": {
          "base_uri": "https://localhost:8080/",
          "height": 916
        },
        "id": "VpXldw89ZtmI",
        "outputId": "575a340b-c083-466b-faf0-ee6817e49426"
      },
      "execution_count": 7,
      "outputs": [
        {
          "output_type": "display_data",
          "data": {
            "text/plain": [
              "<IPython.core.display.Markdown object>"
            ],
            "text/markdown": "Here's an innovative idea for a hackathon project that combines GenAI with Cyberview data:\n\n**Project Title:** \"Smart City Insights using GenAI and Cyberview Data\"\n\n**Problem Statement:** Urban planning and city management require data-driven decision-making. However, existing data sources often lack context and insights. By combining GenAI with Cyberview data, we can unlock new possibilities for urban planning and management.\n\n**Project Description:**\n\n1. **Data Collection:** Collect Cyberview data, which includes information about the city's infrastructure, transportation, energy consumption, and other relevant metrics.\n2. **GenAI Model Training:** Train a GenAI model using the collected data to identify patterns, trends, and correlations between different variables.\n3. **Insight Generation:** Use the trained GenAI model to generate insights and predictions about the city's future development, energy consumption, traffic patterns, and other relevant aspects.\n4. **Visualization:** Visualize the generated insights using interactive dashboards and maps to facilitate easy understanding and decision-making.\n5. **Recommendations:** Provide actionable recommendations for urban planners, policymakers, and stakeholders based on the generated insights and predictions.\n\n**Example Use Cases:**\n\n1. **Predicting Energy Consumption:** Train a GenAI model to predict energy consumption based on historical data, weather patterns, and other relevant factors. This can help urban planners optimize energy infrastructure and reduce waste.\n2. **Optimizing Traffic Flow:** Use GenAI to analyze traffic patterns and predict congestion hotspots. This can help urban planners optimize traffic signal timing and reduce congestion.\n3. **Identifying Areas for Urban Renewal:** Train a GenAI model to identify areas with high potential for urban renewal based on demographic data, economic indicators, and other relevant factors.\n\n**Technical Requirements:**\n\n1. **Data Sources:** Cyberview data, historical data, and other relevant datasets.\n2. **GenAI Framework:** Use a popular GenAI framework like TensorFlow, PyTorch, or Hugging Face Transformers.\n3. **Programming Languages:** Python, R, or Julia.\n4. **Visualization Tools:** Use interactive visualization tools like Tableau, Power BI, or D3.js.\n5. **Cloud Infrastructure:** Use cloud infrastructure like AWS, Google Cloud, or Azure to host the project.\n\n**Timeline:**\n\n1. **Data Collection and Preprocessing:** 2 hours\n2. **GenAI Model Training:** 4 hours\n3. **Insight Generation and Visualization:** 4 hours\n4. **Recommendations and Deployment:** 2 hours\n\n**Tips and Resources:**\n\n1. **Start with a clear problem statement and objective.**\n2. **Use publicly available datasets and APIs to collect data.**\n3. **Experiment with different GenAI models and architectures.**\n4. **Use interactive visualization tools to facilitate easy understanding and decision-making.**\n5. **Seek guidance from mentors and experts in the field.**\n\nThis project combines the power of GenAI with Cyberview data to unlock new insights and possibilities for urban planning and management. By following this project plan, you can create a comprehensive solution that addresses real-world problems and showcases the potential of GenAI in the context of urban planning. Good luck!"
          },
          "metadata": {}
        }
      ]
    }
  ]
}